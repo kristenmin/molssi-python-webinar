{
 "cells": [
  {
   "cell_type": "markdown",
   "metadata": {},
   "source": [
    "# MolSSI Workshop\n",
    "## Introduction to Python Syntax"
   ]
  },
  {
   "cell_type": "markdown",
   "metadata": {},
   "source": [
    "### assigning variables and data types"
   ]
  },
  {
   "cell_type": "code",
   "execution_count": 18,
   "metadata": {},
   "outputs": [
    {
     "data": {
      "text/plain": [
       "10"
      ]
     },
     "execution_count": 18,
     "metadata": {},
     "output_type": "execute_result"
    }
   ],
   "source": [
    "3 + 7"
   ]
  },
  {
   "cell_type": "code",
   "execution_count": 19,
   "metadata": {},
   "outputs": [],
   "source": [
    "#variable_name = variable_value\n",
    "deltaH = -541.5 #KJ/mole\n",
    "deltaS = 10.4 #KJ/(mole K)\n",
    "temperature = 298 #Kelvin\n",
    "deltaG = deltaH - temperature*deltaS"
   ]
  },
  {
   "cell_type": "code",
   "execution_count": 20,
   "metadata": {},
   "outputs": [
    {
     "name": "stdout",
     "output_type": "stream",
     "text": [
      "-3640.7000000000003\n"
     ]
    }
   ],
   "source": [
    "print(deltaG)"
   ]
  },
  {
   "cell_type": "code",
   "execution_count": 21,
   "metadata": {},
   "outputs": [
    {
     "name": "stdout",
     "output_type": "stream",
     "text": [
      "-3640.7000000000003\n"
     ]
    }
   ],
   "source": [
    "deltaG*1000 # prints out the same value if doing so!!\n",
    "print(deltaG)"
   ]
  },
  {
   "cell_type": "code",
   "execution_count": 22,
   "metadata": {},
   "outputs": [
    {
     "name": "stdout",
     "output_type": "stream",
     "text": [
      "-3640.7000000000003\n",
      "-3640700.0000000005\n"
     ]
    }
   ],
   "source": [
    "deltaG_joules = deltaG*1000\n",
    "print(deltaG)\n",
    "print(deltaG_joules) # be careful of doing deltaG = deltaG*1000"
   ]
  },
  {
   "cell_type": "markdown",
   "metadata": {},
   "source": [
    "### assigning multiple variables at once"
   ]
  },
  {
   "cell_type": "code",
   "execution_count": 23,
   "metadata": {},
   "outputs": [
    {
     "name": "stdout",
     "output_type": "stream",
     "text": [
      "-3640.7000000000003\n"
     ]
    }
   ],
   "source": [
    "# doing the same thing in more compact way (single line assignment)\n",
    "deltaH, deltaS, temperature = -541.5, 10.4, 298\n",
    "deltaG = deltaH - deltaS*temperature\n",
    "print(deltaG) \n",
    "# when the error msg pops up, the good stuff is at the bottom!"
   ]
  },
  {
   "cell_type": "markdown",
   "metadata": {},
   "source": [
    "### data types"
   ]
  },
  {
   "cell_type": "code",
   "execution_count": 24,
   "metadata": {},
   "outputs": [
    {
     "data": {
      "text/plain": [
       "float"
      ]
     },
     "execution_count": 24,
     "metadata": {},
     "output_type": "execute_result"
    }
   ],
   "source": [
    "#Data type\n",
    "type(deltaG) #asking the computer what kind of data type is"
   ]
  },
  {
   "cell_type": "code",
   "execution_count": 25,
   "metadata": {},
   "outputs": [
    {
     "data": {
      "text/plain": [
       "str"
      ]
     },
     "execution_count": 25,
     "metadata": {},
     "output_type": "execute_result"
    }
   ],
   "source": [
    "#common data types: str, int\n",
    "deltaG_string = str(deltaG) #cast\n",
    "type(deltaG_string)"
   ]
  },
  {
   "cell_type": "markdown",
   "metadata": {},
   "source": [
    "### lists"
   ]
  },
  {
   "cell_type": "code",
   "execution_count": 26,
   "metadata": {},
   "outputs": [
    {
     "name": "stdout",
     "output_type": "stream",
     "text": [
      "4\n",
      "The length of the list is 4\n"
     ]
    }
   ],
   "source": [
    "#list\n",
    "energy_kcal = [-13.4, -2.7, 5.4, 42.1] #several elements in a list\n",
    "energy_length = len(energy_kcal) #how many elements in a list\n",
    "print(energy_length)\n",
    "print('The length of the list is', energy_length)"
   ]
  },
  {
   "cell_type": "code",
   "execution_count": 27,
   "metadata": {},
   "outputs": [
    {
     "name": "stdout",
     "output_type": "stream",
     "text": [
      "-13.4\n"
     ]
    }
   ],
   "source": [
    "print(energy_kcal[0]) #when you access a particular element in a list *indexing starts at 0*"
   ]
  },
  {
   "cell_type": "code",
   "execution_count": 28,
   "metadata": {},
   "outputs": [
    {
     "name": "stdout",
     "output_type": "stream",
     "text": [
      "-2.7\n"
     ]
    }
   ],
   "source": [
    "print(energy_kcal[1])"
   ]
  },
  {
   "cell_type": "code",
   "execution_count": 29,
   "metadata": {},
   "outputs": [
    {
     "name": "stdout",
     "output_type": "stream",
     "text": [
      "-11.296800000000001\n"
     ]
    }
   ],
   "source": [
    "energy_kilojoules = energy_kcal[1]*4.184\n",
    "print(energy_kilojoules)"
   ]
  },
  {
   "cell_type": "markdown",
   "metadata": {},
   "source": [
    "### slices"
   ]
  },
  {
   "cell_type": "code",
   "execution_count": 30,
   "metadata": {},
   "outputs": [
    {
     "name": "stdout",
     "output_type": "stream",
     "text": [
      "[-13.4, -2.7]\n"
     ]
    }
   ],
   "source": [
    "# Taking a slice - new list that is a subset of an old list\n",
    "# new_list = list_name[start:end] *starts at the start index up to but not including the end index*\n",
    "short_list = energy_kcal[0:2] #if [:2], it automatically starts at index 0, \n",
    "# if [1:], it automatically goes up to the last index (outputs the last index!)\n",
    "print(short_list)"
   ]
  },
  {
   "cell_type": "code",
   "execution_count": 31,
   "metadata": {},
   "outputs": [
    {
     "name": "stdout",
     "output_type": "stream",
     "text": [
      "Slice1 is [-2.7, 5.4, 42.1]\n",
      "Slice2 is [-13.4, -2.7, 5.4]\n"
     ]
    }
   ],
   "source": [
    "# example\n",
    "slice1 = energy_kcal[1:]\n",
    "slice2 = energy_kcal[:3]\n",
    "print('Slice1 is', slice1)\n",
    "print('Slice2 is', slice2)"
   ]
  },
  {
   "cell_type": "code",
   "execution_count": 32,
   "metadata": {},
   "outputs": [
    {
     "name": "stdout",
     "output_type": "stream",
     "text": [
      "[-13.4, -2.7, 5.4, 42.1]\n",
      "[-13.4, -2.7]\n"
     ]
    }
   ],
   "source": [
    "short_list = energy_kcal[0:2]\n",
    "print(energy_kcal) #prints out original list because we didn't specify a new name\n",
    "print(short_list)"
   ]
  },
  {
   "cell_type": "markdown",
   "metadata": {},
   "source": [
    "### repeating an operation many times: for loops"
   ]
  },
  {
   "cell_type": "code",
   "execution_count": 33,
   "metadata": {},
   "outputs": [
    {
     "name": "stdout",
     "output_type": "stream",
     "text": [
      "-56.0656\n",
      "-11.296800000000001\n",
      "22.593600000000002\n",
      "176.1464\n"
     ]
    }
   ],
   "source": [
    "#for loop\n",
    "#for variable in list: \n",
    "#    do things with variable\n",
    "\n",
    "#indentation in python is very important!!\n",
    "\n",
    "for number in energy_kcal: #number can be any other name - just a name of a variable!\n",
    "    KJ = number*4.184\n",
    "    print(KJ)"
   ]
  },
  {
   "cell_type": "code",
   "execution_count": 34,
   "metadata": {},
   "outputs": [
    {
     "ename": "NameError",
     "evalue": "name 'energy_kJ' is not defined",
     "output_type": "error",
     "traceback": [
      "\u001b[0;31m---------------------------------------------------------------------------\u001b[0m",
      "\u001b[0;31mNameError\u001b[0m                                 Traceback (most recent call last)",
      "\u001b[0;32m<ipython-input-34-d6bcfd06ac4c>\u001b[0m in \u001b[0;36m<module>\u001b[0;34m\u001b[0m\n\u001b[1;32m      3\u001b[0m \u001b[0;32mfor\u001b[0m \u001b[0mnumber\u001b[0m \u001b[0;32min\u001b[0m \u001b[0menergy_kcal\u001b[0m\u001b[0;34m:\u001b[0m\u001b[0;34m\u001b[0m\u001b[0;34m\u001b[0m\u001b[0m\n\u001b[1;32m      4\u001b[0m     \u001b[0mKJ\u001b[0m \u001b[0;34m=\u001b[0m \u001b[0mnumber\u001b[0m\u001b[0;34m*\u001b[0m\u001b[0;36m4.184\u001b[0m\u001b[0;34m\u001b[0m\u001b[0;34m\u001b[0m\u001b[0m\n\u001b[0;32m----> 5\u001b[0;31m     \u001b[0menergy_kJ\u001b[0m\u001b[0;34m.\u001b[0m\u001b[0mappend\u001b[0m\u001b[0;34m(\u001b[0m\u001b[0mKJ\u001b[0m\u001b[0;34m)\u001b[0m \u001b[0;31m#energy_KJ has to be defined beforehand\u001b[0m\u001b[0;34m\u001b[0m\u001b[0;34m\u001b[0m\u001b[0m\n\u001b[0m",
      "\u001b[0;31mNameError\u001b[0m: name 'energy_kJ' is not defined"
     ]
    }
   ],
   "source": [
    "#list_name.append(new_thing)\n",
    "\n",
    "for number in energy_kcal:\n",
    "    KJ = number*4.184\n",
    "    energy_kJ.append(KJ) #energy_KJ has to be defined beforehand"
   ]
  },
  {
   "cell_type": "code",
   "execution_count": 35,
   "metadata": {},
   "outputs": [],
   "source": [
    "energy_kJ = []\n",
    "\n",
    "for number in energy_kcal:\n",
    "    KJ = number*4.184\n",
    "    energy_kJ.append(KJ)"
   ]
  },
  {
   "cell_type": "code",
   "execution_count": 36,
   "metadata": {},
   "outputs": [
    {
     "name": "stdout",
     "output_type": "stream",
     "text": [
      "[-56.0656, -11.296800000000001, 22.593600000000002, 176.1464]\n"
     ]
    }
   ],
   "source": [
    "print(energy_kJ)"
   ]
  },
  {
   "cell_type": "markdown",
   "metadata": {},
   "source": [
    "### making choices: logic statements"
   ]
  },
  {
   "cell_type": "code",
   "execution_count": 37,
   "metadata": {},
   "outputs": [
    {
     "name": "stdout",
     "output_type": "stream",
     "text": [
      "[-13.4, -2.7]\n"
     ]
    }
   ],
   "source": [
    "negative_energy = []\n",
    "\n",
    "for number in energy_kcal:\n",
    "    if number < 0: # == if equal to 0, != not equal to 0, <, >, <=, >= // and, or, and not to combine statements\n",
    "        negative_energy.append(number)\n",
    "\n",
    "print(negative_energy) #print outside of the loop because if inside, it would have printed every single time!        "
   ]
  },
  {
   "cell_type": "code",
   "execution_count": 39,
   "metadata": {},
   "outputs": [
    {
     "name": "stdout",
     "output_type": "stream",
     "text": [
      "[-56.0656, -11.296800000000001]\n"
     ]
    }
   ],
   "source": [
    "negative_numbers = []\n",
    "for number in energy_kJ:\n",
    "    if number < 0 or number == 0: \n",
    "        negative_numbers.append(number)\n",
    "        \n",
    "print(negative_numbers)"
   ]
  },
  {
   "cell_type": "code",
   "execution_count": 40,
   "metadata": {},
   "outputs": [
    {
     "name": "stdout",
     "output_type": "stream",
     "text": [
      "[-12.5, 14.4, 8.1, 42.0]\n"
     ]
    }
   ],
   "source": [
    "data_list = ['-12.5', 14.4, 8.1, '42']\n",
    "# set up a for loop to go over each element of data_list.\n",
    "# if the element is a string(str), recast it as a float. save all of the numbers to a new list called number_list.\n",
    "number_list = []\n",
    "for item in data_list: \n",
    "    if type(item) is str:\n",
    "        item = float(item)\n",
    "    number_list.append(item)\n",
    "    \n",
    "print(number_list)    "
   ]
  },
  {
   "cell_type": "code",
   "execution_count": null,
   "metadata": {},
   "outputs": [],
   "source": [
    "#if you exit the notebook and come back and try to rerun the last block, you have to rerun the whole thing!\n",
    "#at the dropdown, go to kernel - restart & run all"
   ]
  }
 ],
 "metadata": {
  "kernelspec": {
   "display_name": "Python 3",
   "language": "python",
   "name": "python3"
  },
  "language_info": {
   "codemirror_mode": {
    "name": "ipython",
    "version": 3
   },
   "file_extension": ".py",
   "mimetype": "text/x-python",
   "name": "python",
   "nbconvert_exporter": "python",
   "pygments_lexer": "ipython3",
   "version": "3.7.6"
  }
 },
 "nbformat": 4,
 "nbformat_minor": 4
}
