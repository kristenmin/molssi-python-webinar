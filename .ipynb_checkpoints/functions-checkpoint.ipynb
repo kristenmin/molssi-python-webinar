{
 "cells": [
  {
   "cell_type": "markdown",
   "metadata": {},
   "source": [
    "# Writing functions"
   ]
  },
  {
   "cell_type": "code",
   "execution_count": 2,
   "metadata": {},
   "outputs": [],
   "source": [
    "# syntax\n",
    "\n",
    "# def function_name(parameters): \n",
    "    # ** body of your code ** #use parameters and calculate value_to_return\n",
    "    # return value_to_return"
   ]
  },
  {
   "cell_type": "code",
   "execution_count": 6,
   "metadata": {},
   "outputs": [],
   "source": [
    "def calculate_distance(coords1, coords2): #calculate_distance is a function that's modular - can be used anywhere\n",
    "    x_distance = coords1[0] - coords2[0]\n",
    "    y_distance = coords1[1] - coords2[1]\n",
    "    z_distance = coords1[2] - coords2[2]\n",
    "    distance_12 = numpy.sqrt(x_distance**2 + y_distance**2 + z_distance**2)\n",
    "    return distance_12"
   ]
  },
  {
   "cell_type": "code",
   "execution_count": 7,
   "metadata": {},
   "outputs": [
    {
     "data": {
      "text/plain": [
       "1.0"
      ]
     },
     "execution_count": 7,
     "metadata": {},
     "output_type": "execute_result"
    }
   ],
   "source": [
    "# example \n",
    "vector1 = [0, 0 ,0]\n",
    "vector2 = [0, 0, 1]\n",
    "calculate_distance(vector1, vector2)"
   ]
  },
  {
   "cell_type": "code",
   "execution_count": 9,
   "metadata": {},
   "outputs": [
    {
     "name": "stdout",
     "output_type": "stream",
     "text": [
      "O to H1 : 0.969\n",
      "O to H2 : 0.969\n"
     ]
    }
   ],
   "source": [
    "import numpy\n",
    "import os\n",
    "\n",
    "file_location = os.path.join('data', 'water.xyz')\n",
    "xyz_file = numpy.genfromtxt(fname = file_location, skip_header = 2, dtype = 'unicode')\n",
    "symbols = xyz_file[:, 0]\n",
    "coordinates = xyz_file[:, 1:]\n",
    "coordinates = coordinates.astype(numpy.float)\n",
    "num_atoms = len(symbols)\n",
    "for num1 in range(0, num_atoms): \n",
    "    for num2 in range(0, num_atoms):\n",
    "        if num1 < num2:\n",
    "            distance = calculate_distance(coordinates[num1], coordinates[num2])\n",
    "            if distance > 0 and distance <= 1.5: \n",
    "                print(F'{symbols[num1]} to {symbols[num2]} : {distance:.3f}')"
   ]
  },
  {
   "cell_type": "code",
   "execution_count": 14,
   "metadata": {},
   "outputs": [],
   "source": [
    "def bond_check(atom_distance): \n",
    "    if atom_distance > 0 and atom_distance <= 1.5: \n",
    "        return True\n",
    "    else: \n",
    "        return False"
   ]
  },
  {
   "cell_type": "code",
   "execution_count": 17,
   "metadata": {},
   "outputs": [
    {
     "data": {
      "text/plain": [
       "True"
      ]
     },
     "execution_count": 17,
     "metadata": {},
     "output_type": "execute_result"
    }
   ],
   "source": [
    "bond_check(1.2) #example that bond_check is completely independent of my code "
   ]
  },
  {
   "cell_type": "code",
   "execution_count": 18,
   "metadata": {},
   "outputs": [
    {
     "data": {
      "text/plain": [
       "False"
      ]
     },
     "execution_count": 18,
     "metadata": {},
     "output_type": "execute_result"
    }
   ],
   "source": [
    "bond_check(2.7)"
   ]
  },
  {
   "cell_type": "code",
   "execution_count": 19,
   "metadata": {},
   "outputs": [
    {
     "data": {
      "text/plain": [
       "False"
      ]
     },
     "execution_count": 19,
     "metadata": {},
     "output_type": "execute_result"
    }
   ],
   "source": [
    "bond_check(-10)"
   ]
  },
  {
   "cell_type": "code",
   "execution_count": 22,
   "metadata": {},
   "outputs": [],
   "source": [
    "def bond_check(atom_distance, min_length, max_length): #have user to specifiy the length\n",
    "    if atom_distance > min_length and atom_distance <= max_length:\n",
    "        return True\n",
    "    else: \n",
    "        return False"
   ]
  },
  {
   "cell_type": "code",
   "execution_count": 23,
   "metadata": {},
   "outputs": [
    {
     "data": {
      "text/plain": [
       "False"
      ]
     },
     "execution_count": 23,
     "metadata": {},
     "output_type": "execute_result"
    }
   ],
   "source": [
    "bond_check(1.2, 0, 1.0)"
   ]
  },
  {
   "cell_type": "code",
   "execution_count": 24,
   "metadata": {},
   "outputs": [
    {
     "data": {
      "text/plain": [
       "True"
      ]
     },
     "execution_count": 24,
     "metadata": {},
     "output_type": "execute_result"
    }
   ],
   "source": [
    "bond_check(2.7, 0, 3)"
   ]
  },
  {
   "cell_type": "code",
   "execution_count": 25,
   "metadata": {},
   "outputs": [
    {
     "ename": "TypeError",
     "evalue": "bond_check() missing 2 required positional arguments: 'min_length' and 'max_length'",
     "output_type": "error",
     "traceback": [
      "\u001b[0;31m---------------------------------------------------------------------------\u001b[0m",
      "\u001b[0;31mTypeError\u001b[0m                                 Traceback (most recent call last)",
      "\u001b[0;32m<ipython-input-25-f5ed7a7198f5>\u001b[0m in \u001b[0;36m<module>\u001b[0;34m\u001b[0m\n\u001b[0;32m----> 1\u001b[0;31m \u001b[0mbond_check\u001b[0m\u001b[0;34m(\u001b[0m\u001b[0;36m1.2\u001b[0m\u001b[0;34m)\u001b[0m\u001b[0;34m\u001b[0m\u001b[0;34m\u001b[0m\u001b[0m\n\u001b[0m",
      "\u001b[0;31mTypeError\u001b[0m: bond_check() missing 2 required positional arguments: 'min_length' and 'max_length'"
     ]
    }
   ],
   "source": [
    "bond_check(1.2)"
   ]
  },
  {
   "cell_type": "code",
   "execution_count": 26,
   "metadata": {},
   "outputs": [],
   "source": [
    "# add default if user forgets parameters\n",
    "def bond_check(atom_distance, min_length = 0, max_length = 1.5): #have user to specifiy the length\n",
    "    if atom_distance > min_length and atom_distance <= max_length:\n",
    "        return True\n",
    "    else: \n",
    "        return False"
   ]
  },
  {
   "cell_type": "code",
   "execution_count": 27,
   "metadata": {},
   "outputs": [
    {
     "data": {
      "text/plain": [
       "True"
      ]
     },
     "execution_count": 27,
     "metadata": {},
     "output_type": "execute_result"
    }
   ],
   "source": [
    "bond_check(1.2)"
   ]
  },
  {
   "cell_type": "code",
   "execution_count": 29,
   "metadata": {},
   "outputs": [
    {
     "data": {
      "text/plain": [
       "True"
      ]
     },
     "execution_count": 29,
     "metadata": {},
     "output_type": "execute_result"
    }
   ],
   "source": [
    "bond_check(1.7, max_length=2.0) #only need to specify the ones you don't want default"
   ]
  },
  {
   "cell_type": "code",
   "execution_count": 30,
   "metadata": {},
   "outputs": [
    {
     "name": "stdout",
     "output_type": "stream",
     "text": [
      "Help on function bond_check in module __main__:\n",
      "\n",
      "bond_check(atom_distance, min_length=0, max_length=1.5)\n",
      "    # add default if user forgets parameters\n",
      "\n"
     ]
    }
   ],
   "source": [
    "help(bond_check) #help is not helpful because we didn't add documentation"
   ]
  },
  {
   "cell_type": "code",
   "execution_count": 34,
   "metadata": {},
   "outputs": [],
   "source": [
    "# add documentation -- docstring\n",
    "def bond_check(atom_distance, min_length = 0, max_length = 1.5):\n",
    "    \"\"\"\n",
    "    check if a distance is a bond based on a minimum and maximum length. \n",
    "    inputs: distance, min_length, max_length\n",
    "    defaults: min_length = 0, max_length = 1.5\n",
    "    return: true or false\n",
    "    \"\"\"\n",
    "    if atom_distance > min_length and atom_distance <= max_length:\n",
    "        return True\n",
    "    else: \n",
    "        return False"
   ]
  },
  {
   "cell_type": "code",
   "execution_count": 35,
   "metadata": {},
   "outputs": [
    {
     "name": "stdout",
     "output_type": "stream",
     "text": [
      "Help on function bond_check in module __main__:\n",
      "\n",
      "bond_check(atom_distance, min_length=0, max_length=1.5)\n",
      "    check if a distance is a bond based on a minimum and maximum length. \n",
      "    inputs: distance, min_length, max_length\n",
      "    defaults: min_length = 0, max_length = 1.5\n",
      "    return: true or false\n",
      "\n"
     ]
    }
   ],
   "source": [
    "help(bond_check) #user actually gets some help now! "
   ]
  },
  {
   "cell_type": "code",
   "execution_count": 36,
   "metadata": {},
   "outputs": [
    {
     "name": "stdout",
     "output_type": "stream",
     "text": [
      "O to H1 : 0.969\n",
      "O to H2 : 0.969\n"
     ]
    }
   ],
   "source": [
    "#implement bond_check\n",
    "#standard way of organizing in python \n",
    "    # import - def function - and implementation\n",
    "\n",
    "import numpy\n",
    "import os\n",
    "\n",
    "def calculate_distance(coords1, coords2): #calculate_distance is a function that's modular - can be used anywhere\n",
    "    x_distance = coords1[0] - coords2[0]\n",
    "    y_distance = coords1[1] - coords2[1]\n",
    "    z_distance = coords1[2] - coords2[2]\n",
    "    distance_12 = numpy.sqrt(x_distance**2 + y_distance**2 + z_distance**2)\n",
    "    return distance_12\n",
    "\n",
    "def bond_check(atom_distance, min_length = 0, max_length = 1.5):\n",
    "    \"\"\"\n",
    "    check if a distance is a bond based on a minimum and maximum length. \n",
    "    inputs: distance, min_length, max_length\n",
    "    defaults: min_length = 0, max_length = 1.5\n",
    "    return: true or false\n",
    "    \"\"\"\n",
    "    if atom_distance > min_length and atom_distance <= max_length:\n",
    "        return True\n",
    "    else: \n",
    "        return False\n",
    "\n",
    "file_location = os.path.join('data', 'water.xyz')\n",
    "xyz_file = numpy.genfromtxt(fname = file_location, skip_header = 2, dtype = 'unicode')\n",
    "symbols = xyz_file[:, 0]\n",
    "coordinates = xyz_file[:, 1:]\n",
    "coordinates = coordinates.astype(numpy.float)\n",
    "num_atoms = len(symbols)\n",
    "for num1 in range(0, num_atoms): \n",
    "    for num2 in range(0, num_atoms):\n",
    "        if num1 < num2:\n",
    "            distance = calculate_distance(coordinates[num1], coordinates[num2])\n",
    "            if bond_check(distance) is True: # use bond_check\n",
    "                print(F'{symbols[num1]} to {symbols[num2]} : {distance:.3f}')"
   ]
  },
  {
   "cell_type": "code",
   "execution_count": null,
   "metadata": {},
   "outputs": [],
   "source": []
  }
 ],
 "metadata": {
  "kernelspec": {
   "display_name": "Python 3",
   "language": "python",
   "name": "python3"
  },
  "language_info": {
   "codemirror_mode": {
    "name": "ipython",
    "version": 3
   },
   "file_extension": ".py",
   "mimetype": "text/x-python",
   "name": "python",
   "nbconvert_exporter": "python",
   "pygments_lexer": "ipython3",
   "version": "3.7.6"
  }
 },
 "nbformat": 4,
 "nbformat_minor": 4
}
