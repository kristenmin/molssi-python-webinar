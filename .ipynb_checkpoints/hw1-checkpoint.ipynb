{
 "cells": [
  {
   "cell_type": "markdown",
   "metadata": {},
   "source": [
    "# Homework 1 due 6/5/20"
   ]
  },
  {
   "cell_type": "code",
   "execution_count": 1,
   "metadata": {},
   "outputs": [
    {
     "name": "stdout",
     "output_type": "stream",
     "text": [
      "03_Prod.mdout              \u001b[34moutfiles\u001b[m\u001b[m/\n",
      "benzene.xyz                sapt.out\n",
      "buckminsterfullerene.xyz   water.xyz\n",
      "distance_data_headers.csv\n"
     ]
    }
   ],
   "source": [
    "ls data"
   ]
  },
  {
   "cell_type": "code",
   "execution_count": 2,
   "metadata": {},
   "outputs": [
    {
     "data": {
      "text/plain": [
       "'/Users/kristenmin/cms-workshop'"
      ]
     },
     "execution_count": 2,
     "metadata": {},
     "output_type": "execute_result"
    }
   ],
   "source": [
    "pwd"
   ]
  },
  {
   "cell_type": "code",
   "execution_count": 2,
   "metadata": {},
   "outputs": [],
   "source": [
    "import os"
   ]
  },
  {
   "cell_type": "code",
   "execution_count": 3,
   "metadata": {},
   "outputs": [],
   "source": [
    "mdout_file = os.path.join('data', '03_Prod.mdout')"
   ]
  },
  {
   "cell_type": "code",
   "execution_count": 4,
   "metadata": {},
   "outputs": [],
   "source": [
    "with open(mdout_file, \"r\") as outfile: \n",
    "    data = outfile.readlines()\n",
    "\n",
    "# another way\n",
    "    # outfile = open(mdout_file, \"r\")\n",
    "    # data = outfile.readlines()\n",
    "    # outfile.close()"
   ]
  },
  {
   "cell_type": "code",
   "execution_count": 6,
   "metadata": {},
   "outputs": [],
   "source": [
    "filehandle = open('etot.txt', 'w+')\n",
    "filehandle.write('total energy\\n')\n",
    "\n",
    "for line in data:\n",
    "    if 'Etot ' in line : \n",
    "        energy_line = line\n",
    "        words = energy_line.split()\n",
    "        energy = float(words[2])\n",
    "        filehandle.write(F'{energy} \\n')\n",
    "filehandle.close()         "
   ]
  },
  {
   "cell_type": "code",
   "execution_count": 35,
   "metadata": {},
   "outputs": [
    {
     "name": "stdout",
     "output_type": "stream",
     "text": [
      "['Etot', '=', '120.4662', 'EKtot', '=', '26.3938', 'EPtot', '=', '116.6099']\n"
     ]
    }
   ],
   "source": [
    "words = energy_line.split()\n",
    "print(words)"
   ]
  },
  {
   "cell_type": "markdown",
   "metadata": {},
   "source": [
    "## The solution to the homework for the first session"
   ]
  },
  {
   "cell_type": "code",
   "execution_count": null,
   "metadata": {},
   "outputs": [],
   "source": [
    "import os\n",
    "\n",
    "# Open the file for reading\n",
    "filename = os.path.join('data', '03_Prod.mdout')\n",
    "f = open(filename, 'r')\n",
    "\n",
    "# Read the data in the file. \n",
    "data = f.readlines()\n",
    "f.close()\n",
    "\n",
    "# Open a file for writing\n",
    "f_write = open('Etot.txt', 'w+')\n",
    "f_write.write('total energy\\n')\n",
    "\n",
    "# Loop through lines in the file. \n",
    "for line in data: \n",
    "    split_line = line.split()\n",
    "    \n",
    "    # Get information from the line. \n",
    "    if 'Etot' in line # python is case-sensitive\n",
    "        # print(split_line[2]) : to check\n",
    "        f_write.write(f'{split_line[2]}\\n')\n",
    "\n",
    "# write information to new file. \n",
    "f_write.close()"
   ]
  }
 ],
 "metadata": {
  "kernelspec": {
   "display_name": "Python 3",
   "language": "python",
   "name": "python3"
  },
  "language_info": {
   "codemirror_mode": {
    "name": "ipython",
    "version": 3
   },
   "file_extension": ".py",
   "mimetype": "text/x-python",
   "name": "python",
   "nbconvert_exporter": "python",
   "pygments_lexer": "ipython3",
   "version": "3.7.6"
  }
 },
 "nbformat": 4,
 "nbformat_minor": 4
}
